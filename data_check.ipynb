{
 "cells": [
  {
   "cell_type": "code",
   "execution_count": 1,
   "metadata": {},
   "outputs": [],
   "source": [
    "import numpy as np\n",
    "import pickle\n"
   ]
  },
  {
   "cell_type": "code",
   "execution_count": 2,
   "metadata": {},
   "outputs": [],
   "source": [
    "with open('dataset\\wmwb\\\\features.pkl', 'rb') as f:\n",
    "    data = pickle.load(f)"
   ]
  },
  {
   "cell_type": "code",
   "execution_count": 5,
   "metadata": {},
   "outputs": [
    {
     "name": "stdout",
     "output_type": "stream",
     "text": [
      "224\n",
      "877\n"
     ]
    }
   ],
   "source": [
    "print(len(data[0]))\n",
    "print(len(data))"
   ]
  },
  {
   "cell_type": "code",
   "execution_count": 16,
   "metadata": {},
   "outputs": [
    {
     "name": "stdout",
     "output_type": "stream",
     "text": [
      "2494\n",
      "4874\n",
      "2229\n",
      "877\n",
      "['Acrocephalus melanopogon']\n"
     ]
    }
   ],
   "source": [
    "# print(len(data[0]))\n",
    "# print(len(data))\n",
    "with open('dataset\\wmwb\\\\classes.pkl', 'rb') as f:\n",
    "    label = pickle.load(f)\n",
    "print(len(label[0]))\n",
    "print(len(label[1]))\n",
    "print(len(label[2]))\n",
    "print(len(label))\n",
    "unique_values = list(set(label[0]))\n",
    "print(unique_values)"
   ]
  },
  {
   "cell_type": "code",
   "execution_count": 25,
   "metadata": {},
   "outputs": [
    {
     "name": "stdout",
     "output_type": "stream",
     "text": [
      "['Anas strepera', 'Charadrius alexandrinus', 'Acrocephalus melanopogon', 'Motacilla flava', 'Porphyrio porphyrio', 'Acrocephalus scirpaceus', 'Gallinula chloropus', 'Circus aeruginosus', 'Botaurus stellaris', 'Dendrocopos minor', 'Tachybaptus ruficollis', 'Ixobrychus minutus', 'Coracias garrulus', 'Alcedo atthis', 'Ardea purpurea', 'Fulica atra', 'Anas platyrhynchos', 'Acrocephalus_arundinaceus', 'Ciconia ciconia', 'Himantopus himantopus']\n",
      "20\n"
     ]
    }
   ],
   "source": [
    "with open('dataset\\wmwb\\\\classes.pkl', 'rb') as f:\n",
    "    labels = pickle.load(f)\n",
    "\n",
    "label_list = list()\n",
    "for i in range(len(labels)):\n",
    "    unique_values = list(set(labels[i]))\n",
    "    label_list = label_list + unique_values\n",
    "\n",
    "bird_class = list(set(label_list))\n",
    "print(bird_class)\n",
    "print(len(bird_class))"
   ]
  }
 ],
 "metadata": {
  "kernelspec": {
   "display_name": "tfgpuenv",
   "language": "python",
   "name": "python3"
  },
  "language_info": {
   "codemirror_mode": {
    "name": "ipython",
    "version": 3
   },
   "file_extension": ".py",
   "mimetype": "text/x-python",
   "name": "python",
   "nbconvert_exporter": "python",
   "pygments_lexer": "ipython3",
   "version": "3.9.18"
  }
 },
 "nbformat": 4,
 "nbformat_minor": 2
}
